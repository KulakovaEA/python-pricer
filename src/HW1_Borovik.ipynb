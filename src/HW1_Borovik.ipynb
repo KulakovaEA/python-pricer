{
 "cells": [
  {
   "cell_type": "code",
   "execution_count": 1,
   "id": "3334034d",
   "metadata": {},
   "outputs": [],
   "source": [
    "import pandas as pd\n",
    "import numpy as np\n",
    "import datetime\n",
    "import warnings\n",
    "warnings.filterwarnings(\"ignore\")"
   ]
  },
  {
   "cell_type": "markdown",
   "id": "78fcfc24",
   "metadata": {},
   "source": [
    "Класс линейной интерполяции:"
   ]
  },
  {
   "cell_type": "code",
   "execution_count": 2,
   "id": "b1d0946b",
   "metadata": {},
   "outputs": [],
   "source": [
    "class Interpolator:\n",
    "\n",
    "    def interpolate(x_list: list, y_list: list, z: float):\n",
    "        if x_list != sorted(x_list):\n",
    "            raise ValueError('x_list must be sorted ASC')\n",
    "        for index, element in enumerate(x_list):\n",
    "            if z <= element:\n",
    "                delta = (z - x_list[index - 1]) / (x_list[index] - x_list[index - 1])\n",
    "                answer = y_list[index - 1] + (y_list[index] - y_list[index - 1]) * delta\n",
    "                break\n",
    "        return answer"
   ]
  },
  {
   "cell_type": "markdown",
   "id": "341880a3",
   "metadata": {},
   "source": [
    "Пусть у нас есть массив с датами, хотим найти массив с соответствующими своп поинтами и дисконтфакторами рубля."
   ]
  },
  {
   "cell_type": "code",
   "execution_count": 3,
   "id": "a489c028",
   "metadata": {},
   "outputs": [],
   "source": [
    "dates = pd.DataFrame([\n",
    "    {\"dates\": '12-04-22'}, \n",
    "    {\"dates\": '03-05-22'},\n",
    "    {\"dates\": '19-07-22'},\n",
    "    {\"dates\": '17-11-22'},\n",
    "    {\"dates\": '21-12-22'},\n",
    "    {\"dates\": '04-02-23'},\n",
    "    {\"dates\": '24-03-23'},\n",
    "    {\"dates\": '16-05-23'},\n",
    "    {\"dates\": '18-07-23'},\n",
    "    {\"dates\": '05-08-22'},\n",
    "])\n"
   ]
  },
  {
   "cell_type": "markdown",
   "id": "9c670299",
   "metadata": {},
   "source": [
    "Функция из первой части задания:"
   ]
  },
  {
   "cell_type": "code",
   "execution_count": 4,
   "id": "9671f8d8",
   "metadata": {},
   "outputs": [],
   "source": [
    "def dummy_func(dates):\n",
    "    return([0.99]*len(dates))"
   ]
  },
  {
   "cell_type": "markdown",
   "id": "4e99a90e",
   "metadata": {},
   "source": [
    "Массив своп поинтов:"
   ]
  },
  {
   "cell_type": "code",
   "execution_count": 185,
   "id": "d9df937a",
   "metadata": {},
   "outputs": [],
   "source": [
    "swaps = pd.DataFrame([\n",
    "    {\"date\": '11-03-22', \"swap points\":627}, \n",
    "    {\"date\": '12-05-22', \"swap points\": 1253}, \n",
    "    {\"date\": '21-09-22', \"swap points\": 1300}, \n",
    "    {\"date\": '29-10-22', \"swap points\": 2456}, \n",
    "    {\"date\": '01-12-22', \"swap points\": 1356}, \n",
    "    {\"date\": '11-01-23', \"swap points\": 3456}, \n",
    "    {\"date\": '15-03-23', \"swap points\": 5216}, \n",
    "    {\"date\": '16-04-23', \"swap points\": 6708}, \n",
    "    {\"date\": '10-06-23', \"swap points\": 8071}, \n",
    "    {\"date\": '26-08-23', \"swap points\": 9023}])\n",
    "for a in range(len(swaps)):\n",
    "    swaps['date'][a] = datetime.datetime.strptime(swaps['date'][a], '%d-%m-%y')\n",
    "swaps['timestamp'] = swaps['date'].apply(lambda x: x.timestamp())"
   ]
  },
  {
   "cell_type": "code",
   "execution_count": 186,
   "id": "61223601",
   "metadata": {},
   "outputs": [
    {
     "data": {
      "text/html": [
       "<div>\n",
       "<style scoped>\n",
       "    .dataframe tbody tr th:only-of-type {\n",
       "        vertical-align: middle;\n",
       "    }\n",
       "\n",
       "    .dataframe tbody tr th {\n",
       "        vertical-align: top;\n",
       "    }\n",
       "\n",
       "    .dataframe thead th {\n",
       "        text-align: right;\n",
       "    }\n",
       "</style>\n",
       "<table border=\"1\" class=\"dataframe\">\n",
       "  <thead>\n",
       "    <tr style=\"text-align: right;\">\n",
       "      <th></th>\n",
       "      <th>date</th>\n",
       "      <th>swap points</th>\n",
       "      <th>timestamp</th>\n",
       "    </tr>\n",
       "  </thead>\n",
       "  <tbody>\n",
       "    <tr>\n",
       "      <th>0</th>\n",
       "      <td>2022-03-11 00:00:00</td>\n",
       "      <td>627</td>\n",
       "      <td>1.646946e+09</td>\n",
       "    </tr>\n",
       "    <tr>\n",
       "      <th>1</th>\n",
       "      <td>2022-05-12 00:00:00</td>\n",
       "      <td>1253</td>\n",
       "      <td>1.652303e+09</td>\n",
       "    </tr>\n",
       "    <tr>\n",
       "      <th>2</th>\n",
       "      <td>2022-09-21 00:00:00</td>\n",
       "      <td>1300</td>\n",
       "      <td>1.663708e+09</td>\n",
       "    </tr>\n",
       "    <tr>\n",
       "      <th>3</th>\n",
       "      <td>2022-10-29 00:00:00</td>\n",
       "      <td>2456</td>\n",
       "      <td>1.666991e+09</td>\n",
       "    </tr>\n",
       "    <tr>\n",
       "      <th>4</th>\n",
       "      <td>2022-12-01 00:00:00</td>\n",
       "      <td>1356</td>\n",
       "      <td>1.669842e+09</td>\n",
       "    </tr>\n",
       "    <tr>\n",
       "      <th>5</th>\n",
       "      <td>2023-01-11 00:00:00</td>\n",
       "      <td>3456</td>\n",
       "      <td>1.673384e+09</td>\n",
       "    </tr>\n",
       "    <tr>\n",
       "      <th>6</th>\n",
       "      <td>2023-03-15 00:00:00</td>\n",
       "      <td>5216</td>\n",
       "      <td>1.678828e+09</td>\n",
       "    </tr>\n",
       "    <tr>\n",
       "      <th>7</th>\n",
       "      <td>2023-04-16 00:00:00</td>\n",
       "      <td>6708</td>\n",
       "      <td>1.681592e+09</td>\n",
       "    </tr>\n",
       "    <tr>\n",
       "      <th>8</th>\n",
       "      <td>2023-06-10 00:00:00</td>\n",
       "      <td>8071</td>\n",
       "      <td>1.686344e+09</td>\n",
       "    </tr>\n",
       "    <tr>\n",
       "      <th>9</th>\n",
       "      <td>2023-08-26 00:00:00</td>\n",
       "      <td>9023</td>\n",
       "      <td>1.692997e+09</td>\n",
       "    </tr>\n",
       "  </tbody>\n",
       "</table>\n",
       "</div>"
      ],
      "text/plain": [
       "                  date  swap points     timestamp\n",
       "0  2022-03-11 00:00:00          627  1.646946e+09\n",
       "1  2022-05-12 00:00:00         1253  1.652303e+09\n",
       "2  2022-09-21 00:00:00         1300  1.663708e+09\n",
       "3  2022-10-29 00:00:00         2456  1.666991e+09\n",
       "4  2022-12-01 00:00:00         1356  1.669842e+09\n",
       "5  2023-01-11 00:00:00         3456  1.673384e+09\n",
       "6  2023-03-15 00:00:00         5216  1.678828e+09\n",
       "7  2023-04-16 00:00:00         6708  1.681592e+09\n",
       "8  2023-06-10 00:00:00         8071  1.686344e+09\n",
       "9  2023-08-26 00:00:00         9023  1.692997e+09"
      ]
     },
     "execution_count": 186,
     "metadata": {},
     "output_type": "execute_result"
    }
   ],
   "source": [
    "swaps"
   ]
  },
  {
   "cell_type": "markdown",
   "id": "7eb68fa5",
   "metadata": {},
   "source": [
    "Функция для нахождения своп поинта в неизвестную дату:"
   ]
  },
  {
   "cell_type": "code",
   "execution_count": 174,
   "id": "e03c3d91",
   "metadata": {},
   "outputs": [],
   "source": [
    "def interpolated_swap_point(date):\n",
    "  date1 = datetime.datetime.strptime(date, '%d-%m-%y')\n",
    "  return Interpolator.interpolate(list(swaps['timestamp']), list(swaps['swap points']), date1.timestamp())"
   ]
  },
  {
   "cell_type": "markdown",
   "id": "5327b384",
   "metadata": {},
   "source": [
    "Считаем массив своп поинтов:"
   ]
  },
  {
   "cell_type": "code",
   "execution_count": 178,
   "id": "0519f175",
   "metadata": {},
   "outputs": [],
   "source": [
    "dates['swap_points'] = dates['dates'].apply(interpolated_swap_point)"
   ]
  },
  {
   "cell_type": "markdown",
   "id": "d32683ea",
   "metadata": {},
   "source": [
    "Нам дан массив дисконт факторов доллара. Найдем ставку доллара:"
   ]
  },
  {
   "cell_type": "code",
   "execution_count": 187,
   "id": "c323b3ed",
   "metadata": {},
   "outputs": [],
   "source": [
    "def years_between(d2, d1 = '5-11-21'): #вспомогательная функция, считает время, прошедшее с сегодняшнего дня\n",
    "    d1 = datetime.datetime.strptime(d1, \"%d-%m-%y\")\n",
    "    d2 = datetime.datetime.strptime(d2, \"%d-%m-%y\")\n",
    "    return abs((d2 - d1).days)/365"
   ]
  },
  {
   "cell_type": "code",
   "execution_count": 188,
   "id": "2ff36566",
   "metadata": {},
   "outputs": [],
   "source": [
    "dates['df_usd'] = dummy_func(dates['dates'])\n",
    "dates['rate_usd'] = dates['df_usd'].apply(lambda x: -np.log(x)/years_between(dates['dates'][dates['df_usd'] == x].values[0]))"
   ]
  },
  {
   "cell_type": "markdown",
   "id": "2e4c14e1",
   "metadata": {},
   "source": [
    "С помощью своп поинтов и ставки доллара находим ставку для рубля:"
   ]
  },
  {
   "cell_type": "code",
   "execution_count": 180,
   "id": "e15db3ab",
   "metadata": {},
   "outputs": [],
   "source": [
    "def get_rate_rub(points, r_usd, spot = 71):\n",
    "    return((points/(100*spot)+1)*(1+r_usd) - 1)"
   ]
  },
  {
   "cell_type": "code",
   "execution_count": 181,
   "id": "e102a10c",
   "metadata": {},
   "outputs": [],
   "source": [
    "dates['rate_rub'] = dates.apply(lambda x: get_rate_rub(x.swap_points, x.rate_usd), axis=1)"
   ]
  },
  {
   "cell_type": "markdown",
   "id": "168c0607",
   "metadata": {},
   "source": [
    "Считаем дисконт фактор рубля:"
   ]
  },
  {
   "cell_type": "code",
   "execution_count": 189,
   "id": "4cb17f3c",
   "metadata": {},
   "outputs": [],
   "source": [
    "dates['df_rub'] = dates['rate_rub'].apply(lambda x: np.exp(-x*years_between(dates['dates'][dates['rate_rub'] == x].values[0])))"
   ]
  },
  {
   "cell_type": "markdown",
   "id": "8ca81805",
   "metadata": {},
   "source": [
    "Для данного массива дат получили массиы своп поинтов и дисконт фактора рубля:"
   ]
  },
  {
   "cell_type": "code",
   "execution_count": 191,
   "id": "6b15da84",
   "metadata": {},
   "outputs": [
    {
     "data": {
      "text/html": [
       "<div>\n",
       "<style scoped>\n",
       "    .dataframe tbody tr th:only-of-type {\n",
       "        vertical-align: middle;\n",
       "    }\n",
       "\n",
       "    .dataframe tbody tr th {\n",
       "        vertical-align: top;\n",
       "    }\n",
       "\n",
       "    .dataframe thead th {\n",
       "        text-align: right;\n",
       "    }\n",
       "</style>\n",
       "<table border=\"1\" class=\"dataframe\">\n",
       "  <thead>\n",
       "    <tr style=\"text-align: right;\">\n",
       "      <th></th>\n",
       "      <th>dates</th>\n",
       "      <th>swap_points</th>\n",
       "      <th>df_usd</th>\n",
       "      <th>rate_usd</th>\n",
       "      <th>rate_rub</th>\n",
       "      <th>df_rub</th>\n",
       "    </tr>\n",
       "  </thead>\n",
       "  <tbody>\n",
       "    <tr>\n",
       "      <th>0</th>\n",
       "      <td>12-04-22</td>\n",
       "      <td>950.096774</td>\n",
       "      <td>0.99</td>\n",
       "      <td>0.023218</td>\n",
       "      <td>0.160141</td>\n",
       "      <td>0.933027</td>\n",
       "    </tr>\n",
       "    <tr>\n",
       "      <th>1</th>\n",
       "      <td>03-05-22</td>\n",
       "      <td>1162.129032</td>\n",
       "      <td>0.99</td>\n",
       "      <td>0.023218</td>\n",
       "      <td>0.190698</td>\n",
       "      <td>0.910719</td>\n",
       "    </tr>\n",
       "    <tr>\n",
       "      <th>2</th>\n",
       "      <td>19-07-22</td>\n",
       "      <td>1277.212121</td>\n",
       "      <td>0.99</td>\n",
       "      <td>0.023218</td>\n",
       "      <td>0.207283</td>\n",
       "      <td>0.864692</td>\n",
       "    </tr>\n",
       "    <tr>\n",
       "      <th>3</th>\n",
       "      <td>17-11-22</td>\n",
       "      <td>1822.666667</td>\n",
       "      <td>0.99</td>\n",
       "      <td>0.023218</td>\n",
       "      <td>0.285891</td>\n",
       "      <td>0.744315</td>\n",
       "    </tr>\n",
       "    <tr>\n",
       "      <th>4</th>\n",
       "      <td>21-12-22</td>\n",
       "      <td>2380.390244</td>\n",
       "      <td>0.99</td>\n",
       "      <td>0.023218</td>\n",
       "      <td>0.366268</td>\n",
       "      <td>0.662041</td>\n",
       "    </tr>\n",
       "    <tr>\n",
       "      <th>5</th>\n",
       "      <td>04-02-23</td>\n",
       "      <td>4126.476190</td>\n",
       "      <td>0.99</td>\n",
       "      <td>0.023218</td>\n",
       "      <td>0.617905</td>\n",
       "      <td>0.462107</td>\n",
       "    </tr>\n",
       "    <tr>\n",
       "      <th>6</th>\n",
       "      <td>24-03-23</td>\n",
       "      <td>5635.625000</td>\n",
       "      <td>0.99</td>\n",
       "      <td>0.023218</td>\n",
       "      <td>0.835396</td>\n",
       "      <td>0.315520</td>\n",
       "    </tr>\n",
       "    <tr>\n",
       "      <th>7</th>\n",
       "      <td>16-05-23</td>\n",
       "      <td>7451.454545</td>\n",
       "      <td>0.99</td>\n",
       "      <td>0.023218</td>\n",
       "      <td>1.097085</td>\n",
       "      <td>0.187461</td>\n",
       "    </tr>\n",
       "    <tr>\n",
       "      <th>8</th>\n",
       "      <td>18-07-23</td>\n",
       "      <td>8540.818182</td>\n",
       "      <td>0.99</td>\n",
       "      <td>0.023218</td>\n",
       "      <td>1.254079</td>\n",
       "      <td>0.118812</td>\n",
       "    </tr>\n",
       "    <tr>\n",
       "      <th>9</th>\n",
       "      <td>05-08-22</td>\n",
       "      <td>1283.265152</td>\n",
       "      <td>0.99</td>\n",
       "      <td>0.023218</td>\n",
       "      <td>0.208155</td>\n",
       "      <td>0.855825</td>\n",
       "    </tr>\n",
       "  </tbody>\n",
       "</table>\n",
       "</div>"
      ],
      "text/plain": [
       "      dates  swap_points  df_usd  rate_usd  rate_rub    df_rub\n",
       "0  12-04-22   950.096774    0.99  0.023218  0.160141  0.933027\n",
       "1  03-05-22  1162.129032    0.99  0.023218  0.190698  0.910719\n",
       "2  19-07-22  1277.212121    0.99  0.023218  0.207283  0.864692\n",
       "3  17-11-22  1822.666667    0.99  0.023218  0.285891  0.744315\n",
       "4  21-12-22  2380.390244    0.99  0.023218  0.366268  0.662041\n",
       "5  04-02-23  4126.476190    0.99  0.023218  0.617905  0.462107\n",
       "6  24-03-23  5635.625000    0.99  0.023218  0.835396  0.315520\n",
       "7  16-05-23  7451.454545    0.99  0.023218  1.097085  0.187461\n",
       "8  18-07-23  8540.818182    0.99  0.023218  1.254079  0.118812\n",
       "9  05-08-22  1283.265152    0.99  0.023218  0.208155  0.855825"
      ]
     },
     "execution_count": 191,
     "metadata": {},
     "output_type": "execute_result"
    }
   ],
   "source": [
    "dates"
   ]
  },
  {
   "cell_type": "code",
   "execution_count": null,
   "id": "a345a8b6",
   "metadata": {},
   "outputs": [],
   "source": []
  }
 ],
 "metadata": {
  "kernelspec": {
   "display_name": "Python 3 (ipykernel)",
   "language": "python",
   "name": "python3"
  },
  "language_info": {
   "codemirror_mode": {
    "name": "ipython",
    "version": 3
   },
   "file_extension": ".py",
   "mimetype": "text/x-python",
   "name": "python",
   "nbconvert_exporter": "python",
   "pygments_lexer": "ipython3",
   "version": "3.7.9"
  }
 },
 "nbformat": 4,
 "nbformat_minor": 5
}
